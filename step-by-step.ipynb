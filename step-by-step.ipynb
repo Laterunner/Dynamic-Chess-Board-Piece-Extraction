{
  "cells": [
    {
      "cell_type": "markdown",
      "metadata": {
        "id": "-APsN57ciJEM"
      },
      "source": [
        "## All Steps"
      ]
    },
    {
      "cell_type": "markdown",
      "metadata": {
        "id": "I5wBe-J9iJEN"
      },
      "source": [
        "<br>\n",
        "<font size=\"5\">\n",
        "This notebook is for visualizing the entire process. It will give you a better insight into this project.\n",
        "</font>\n",
        "<br><br><br><br>"
      ]
    },
    {
      "cell_type": "markdown",
      "metadata": {
        "id": "52V64ooYiJEN"
      },
      "source": [
        "<br>\n",
        "\n",
        "## Necessary Libraries"
      ]
    },
    {
      "cell_type": "code",
      "execution_count": null,
      "metadata": {
        "id": "yNQasfoCiJEO",
        "collapsed": true
      },
      "outputs": [],
      "source": [
        "!pip install ultralytics\n",
        "!pip install pillow\n",
        "!apt-get install libcairo2-dev pkg-config python3-dev\n",
        "!pip install pycairo\n",
        "!pip install rlPyCairo\n",
        "!pip install svglib\n",
        "!pip install reportlab\n",
        "!pip install chess\n",
        "!pip install colab-xterm\n",
        "import cv2\n",
        "import numpy as np\n",
        "import matplotlib.pyplot as plt\n",
        "import pandas as pd\n",
        "from ultralytics import YOLO\n",
        "import  math\n",
        "import ultralytics\n",
        "import csv\n",
        "from svglib.svglib import svg2rlg\n",
        "from reportlab.graphics import renderPM\n",
        "from PIL import Image\n",
        "import os\n",
        "import chess\n",
        "import chess.svg\n",
        "import os"
      ]
    },
    {
      "cell_type": "markdown",
      "source": [
        "##Get Repository"
      ],
      "metadata": {
        "id": "6Puv_0PYtrWj"
      }
    },
    {
      "cell_type": "code",
      "source": [
        "# Get Repository\n",
        "!git clone https://github.com/Laterunner/Dynamic-Chess-Board-Piece-Extraction.git"
      ],
      "metadata": {
        "id": "9SIobH-YQ1vP"
      },
      "execution_count": null,
      "outputs": []
    },
    {
      "cell_type": "markdown",
      "source": [],
      "metadata": {
        "id": "emUjvvNp8-tO"
      }
    },
    {
      "cell_type": "markdown",
      "metadata": {
        "id": "uiKMK5npiJEO"
      },
      "source": [
        "<br>\n",
        "\n",
        "## Display Image"
      ]
    },
    {
      "cell_type": "code",
      "source": [],
      "metadata": {
        "id": "_lFeyT9HQyi2"
      },
      "execution_count": null,
      "outputs": []
    },
    {
      "cell_type": "code",
      "execution_count": null,
      "metadata": {
        "id": "fOFxLSbRiJEO"
      },
      "outputs": [],
      "source": [
        "# Path of Image that you want to convert\n",
        "image_path = \"/content/Dynamic-Chess-Board-Piece-Extraction/test-images/test-3.jpeg\"\n",
        "# image_path = '/Dynamic-Chess-Board-Piece-Extraction/test-images/test-11.jpeg'\n",
        "\n",
        "# read image and convert it to different color spaces\n",
        "image = cv2.imread(image_path)\n",
        "gray_image=cv2.cvtColor(image,cv2.COLOR_BGR2GRAY)\n",
        "rgb_image=cv2.cvtColor(image,cv2.COLOR_BGR2RGB)\n",
        "\n",
        "plt.figure(figsize=(9,7))\n",
        "plt.imshow(rgb_image)\n",
        "plt.title(\"RGB\");"
      ]
    },
    {
      "cell_type": "code",
      "source": [],
      "metadata": {
        "id": "a35XNaBanajw"
      },
      "execution_count": null,
      "outputs": []
    },
    {
      "cell_type": "markdown",
      "metadata": {
        "id": "cMEx9GZOiJEP"
      },
      "source": [
        "<br>\n",
        "\n",
        "\n",
        "## Processing Image\n",
        "####  OTSU Threshold , Canny , dilate , HoughLinesP"
      ]
    },
    {
      "cell_type": "code",
      "execution_count": null,
      "metadata": {
        "id": "0kG-LK64iJEP"
      },
      "outputs": [],
      "source": [
        "# Gaussian Blur\n",
        "#gaussian_blur = cv2.GaussianBlur(gray_image, (5, 5), 0)\n",
        "\n",
        "# OTSU threshold\n",
        "ret, otsu_binary = cv2.threshold(gray_image, 0, 255, cv2.THRESH_BINARY + cv2.THRESH_OTSU)\n",
        "\n",
        "# Canny edge detection\n",
        "canny = cv2.Canny(otsu_binary, 20, 255)\n",
        "\n",
        "# Dilation\n",
        "kernel = np.ones((7, 7), np.uint8)\n",
        "img_dilation = cv2.dilate(canny, kernel, iterations=1)\n",
        "\n",
        "# Hough Lines\n",
        "lines = cv2.HoughLinesP(img_dilation, 1, np.pi / 180, threshold=500, minLineLength=150, maxLineGap=100)\n",
        "\n",
        "\n",
        "# Create an image that contains only black pixels\n",
        "black_image = np.zeros_like(img_dilation)\n",
        "\n",
        "# Draw only lines that are output of HoughLinesP function to the \"black_image\"\n",
        "if lines is not None:\n",
        "    for line in lines:\n",
        "        x1, y1, x2, y2 = line[0]\n",
        "        # draw only lines to the \"black_image\"\n",
        "        cv2.line(black_image, (x1, y1), (x2, y2), (255, 255, 255), 2)\n",
        "\n",
        "# Dilation\n",
        "kernel = np.ones((3, 3), np.uint8)\n",
        "black_image = cv2.dilate(black_image, kernel, iterations=1)\n",
        "\n",
        "plt.figure(figsize=(9,7))\n",
        "plt.title(\"All Lines (black_image)\")\n",
        "plt.imshow(black_image,cmap=\"gray\");\n"
      ]
    },
    {
      "cell_type": "markdown",
      "metadata": {
        "id": "B49gIy_miJEP"
      },
      "source": [
        "<br>\n",
        "\n",
        "\n",
        "## Find Contours , sort contours points(4 point), and display valid squares on new fully black image\n",
        "\n",
        "#### By saying \"valid squares\" , I mean geometrically. With some threshold value , 4 length of a square must be close to each other\n",
        "\n",
        "#### 4 point --> bottomright , topright , topleft , bottomleft"
      ]
    },
    {
      "cell_type": "code",
      "execution_count": null,
      "metadata": {
        "id": "vhYAwjc-iJEP"
      },
      "outputs": [],
      "source": [
        "# Look for valid squares and check if squares are inside of board\n",
        "\n",
        "# find contours\n",
        "board_contours, hierarchy = cv2.findContours(black_image, cv2.RETR_TREE, cv2.CHAIN_APPROX_SIMPLE)\n",
        "\n",
        "# create image that contains only black pixels\n",
        "black_image_2 = np.zeros_like(black_image)\n",
        "\n",
        "# list for storing the center coordinates of squares\n",
        "square_centers=list()\n",
        "\n",
        "# Copy the board image\n",
        "board_squared = canny.copy() # CANNY IMAGE\n",
        "\n",
        "# loop through contours and filter them by deciding if they are potential squares\n",
        "for contour in board_contours:\n",
        "    if 2000 < cv2.contourArea(contour) < 20000:\n",
        "\n",
        "        # Approximate the contour to a simpler shape\n",
        "        epsilon = 0.02 * cv2.arcLength(contour, True)\n",
        "        approx = cv2.approxPolyDP(contour, epsilon, True)\n",
        "\n",
        "        # if polygon has 4 vertices\n",
        "        if len(approx) == 4:\n",
        "\n",
        "            # 4 points of polygon\n",
        "            pts = [pt[0].tolist() for pt in approx]\n",
        "\n",
        "            # create same pattern for points , bottomright(1) , topright(2) , topleft(3) , bottomleft(4)\n",
        "            index_sorted = sorted(pts, key=lambda x: x[0], reverse=True)\n",
        "\n",
        "            #  Y values\n",
        "            if index_sorted[0][1]< index_sorted[1][1]:\n",
        "                cur=index_sorted[0]\n",
        "                index_sorted[0] =  index_sorted[1]\n",
        "                index_sorted[1] = cur\n",
        "\n",
        "            if index_sorted[2][1]> index_sorted[3][1]:\n",
        "                cur=index_sorted[2]\n",
        "                index_sorted[2] =  index_sorted[3]\n",
        "                index_sorted[3] = cur\n",
        "\n",
        "            # bottomright(1) , topright(2) , topleft(3) , bottomleft(4)\n",
        "            pt1=index_sorted[0]\n",
        "            pt2=index_sorted[1]\n",
        "            pt3=index_sorted[2]\n",
        "            pt4=index_sorted[3]\n",
        "\n",
        "            # find rectangle that fits 4 point\n",
        "            x, y, w, h = cv2.boundingRect(contour)\n",
        "            # find center of rectangle\n",
        "            center_x=(x+(x+w))/2\n",
        "            center_y=(y+(y+h))/2\n",
        "\n",
        "            # calculate length of 4 side of rectangle\n",
        "            l1 = math.sqrt((pt1[0] - pt2[0])**2 + (pt1[1] - pt2[1])**2)\n",
        "            l2 = math.sqrt((pt2[0] - pt3[0])**2 + (pt2[1] - pt3[1])**2)\n",
        "            l3 = math.sqrt((pt3[0] - pt4[0])**2 + (pt3[1] - pt4[1])**2)\n",
        "            l4 = math.sqrt((pt1[0] - pt4[0])**2 + (pt1[1] - pt4[1])**2)\n",
        "\n",
        "\n",
        "            # Create a list of lengths\n",
        "            lengths = [l1, l2, l3, l4]\n",
        "\n",
        "            # Get the maximum and minimum lengths\n",
        "            max_length = max(lengths)\n",
        "            min_length = min(lengths)\n",
        "\n",
        "            # Check if this length values are suitable for a square , this threshold value plays crucial role for squares ,\n",
        "            valid_square=True\n",
        "            if (max_length - min_length) <= 35: # 20 for smaller boards  , 50 for bigger , 35 works most of the time\n",
        "                pass\n",
        "            else:\n",
        "                valid_square=False\n",
        "\n",
        "\n",
        "             # if algorithm decides it is a square , add it to \"square_centers\" list\n",
        "            if valid_square:\n",
        "                square_centers.append([center_x,center_y,pt1,pt2,pt3,pt4])\n",
        "\n",
        "                # Draw the lines between the points\n",
        "                cv2.line(board_squared, pt1, pt2, (255, 255, 0), 7)\n",
        "                cv2.line(board_squared, pt2, pt3, (255, 255, 0), 7)\n",
        "                cv2.line(board_squared, pt3, pt4, (255, 255, 0), 7)\n",
        "                cv2.line(board_squared, pt1, pt4, (255, 255, 0), 7)\n",
        "\n",
        "                # Draw only valid squares to \"black_image_2\"\n",
        "                cv2.line(black_image_2, pt1, pt2, (255, 255, 0), 7)\n",
        "                cv2.line(black_image_2, pt2, pt3, (255, 255, 0), 7)\n",
        "                cv2.line(black_image_2, pt3, pt4, (255, 255, 0), 7)\n",
        "                cv2.line(black_image_2, pt1, pt4, (255, 255, 0), 7)\n",
        "\n",
        "plt.figure(figsize=(12,8))\n",
        "\n",
        "\n",
        "plt.subplot(121)\n",
        "plt.title(\"board_squared\")\n",
        "plt.imshow(board_squared,cmap=\"gray\")\n",
        "\n",
        "plt.subplot(122)\n",
        "plt.title(\"black_image_2\")\n",
        "plt.imshow(black_image_2,cmap=\"gray\")"
      ]
    },
    {
      "cell_type": "markdown",
      "metadata": {
        "id": "0aSziA92iJEQ"
      },
      "source": [
        "<br>\n",
        "\n",
        "\n",
        "## Dilation to the image that contains only valid squares (gemoetrically valid)"
      ]
    },
    {
      "cell_type": "code",
      "execution_count": null,
      "metadata": {
        "id": "VgucSGNhiJEQ"
      },
      "outputs": [],
      "source": [
        "# Apply dilation to the black_image_2\n",
        "kernel = np.ones((7, 7), np.uint8)\n",
        "dilated_black_image = cv2.dilate(black_image_2, kernel, iterations=1)\n",
        "\n",
        "plt.figure(figsize=(9,7))\n",
        "plt.title(\"dilated_black_image\")\n",
        "plt.imshow(dilated_black_image,cmap=\"gray\")"
      ]
    },
    {
      "cell_type": "markdown",
      "metadata": {
        "id": "Pub3ZargiJEQ"
      },
      "source": [
        "<br>\n",
        "\n",
        "\n",
        "## Find biggest contour of image"
      ]
    },
    {
      "cell_type": "code",
      "execution_count": null,
      "metadata": {
        "id": "WjJ95VWRiJEQ"
      },
      "outputs": [],
      "source": [
        "# Find contours of dilated_black_image\n",
        "contours, _ = cv2.findContours(dilated_black_image, cv2.RETR_EXTERNAL, cv2.CHAIN_APPROX_SIMPLE)\n",
        "\n",
        "# take biggest contour\n",
        "largest_contour = max(contours, key=cv2.contourArea)\n",
        "\n",
        "# create black image\n",
        "biggest_area_image = np.zeros_like(dilated_black_image)\n",
        "\n",
        "# draw biggest contour to the image\n",
        "cv2.drawContours(biggest_area_image,largest_contour,-1,(255,255,255),10)\n",
        "\n",
        "plt.figure(figsize=(9,7))\n",
        "plt.title(\"Biggest Contour of dilated_black_image\")\n",
        "plt.imshow(biggest_area_image,cmap=\"gray\")"
      ]
    },
    {
      "cell_type": "markdown",
      "metadata": {
        "id": "ev6VtWEniJEQ"
      },
      "source": [
        "<br>\n",
        "\n",
        "\n",
        "### Check if square centers falls inside of the biggest contour , it is for detecting undesired squares that exists outside of the board\n"
      ]
    },
    {
      "cell_type": "code",
      "execution_count": null,
      "metadata": {
        "id": "QK9-X6oqiJER"
      },
      "outputs": [],
      "source": [
        "# Check if square centers falls inside of biggest contour\n",
        "\n",
        "inside_squares=list()\n",
        "\n",
        "for square in square_centers:\n",
        "    point=(square[0],square[1])\n",
        "\n",
        "    # Check if the point is inside the largest contour\n",
        "    distance = cv2.pointPolygonTest(largest_contour, point, measureDist=False)\n",
        "\n",
        "    if distance >= 0:\n",
        "        inside_squares.append(square)\n",
        "\n",
        "    else:\n",
        "        continue\n",
        "\n",
        "len(inside_squares)"
      ]
    },
    {
      "cell_type": "markdown",
      "metadata": {
        "id": "wBAs5C5CiJER"
      },
      "source": [
        "<br>\n",
        "\n",
        "\n",
        "## Sort Squares"
      ]
    },
    {
      "cell_type": "code",
      "execution_count": null,
      "metadata": {
        "id": "sB1sH_TFiJER"
      },
      "outputs": [],
      "source": [
        "# Chess board has 64 square , 8x8 --> now sort this squares by following this 8x8 pattern\n",
        "\n",
        "# sort y values\n",
        "sorted_coordinates = sorted(inside_squares, key=lambda x: x[1], reverse=True)\n",
        "\n",
        "# sort x values\n",
        "groups = []\n",
        "current_group = [sorted_coordinates[0]]\n",
        "\n",
        "for coord in sorted_coordinates[1:]:\n",
        "    if abs(coord[1] - current_group[-1][1]) < 50:\n",
        "        current_group.append(coord)\n",
        "    else:\n",
        "        groups.append(current_group)\n",
        "        current_group = [coord]\n",
        "\n",
        "# Append the last group\n",
        "groups.append(current_group)\n",
        "\n",
        "# Sort each group by the second index (column values)\n",
        "for group in groups:\n",
        "    group.sort(key=lambda x: x[0])\n",
        "\n",
        "# Combine the groups back together\n",
        "sorted_coordinates = [coord for group in groups for coord in group]\n",
        "\n",
        "sorted_coordinates[:5]"
      ]
    },
    {
      "cell_type": "markdown",
      "metadata": {
        "id": "jwX9puPjiJER"
      },
      "source": [
        "<br><br>\n",
        "\n",
        "## Add undetected squares"
      ]
    },
    {
      "cell_type": "markdown",
      "metadata": {
        "id": "XCAWnKCViJER"
      },
      "source": [
        "<font size=\"4\">\n",
        "    This function simply follow coordinates of consequtive squares , but there are some squares that needs to\n",
        "    handled differently . <br><br>\n",
        "    Think about first square of every row , before that square there is nothing, so it shouldnt  processed  like  consequtive squares <br><br>\n",
        "    [6,14,22,30,38,46,54] and [8,16,24,32,40,48,56] , and remaining squares treated differently , for these 3 set, there is 3 different algorithms<br><br>\n",
        "    Dont forget : this numbers are started from \"0\" , so square 6 means 7 in real chess board\n",
        "</font>"
      ]
    },
    {
      "cell_type": "code",
      "execution_count": null,
      "metadata": {
        "id": "9ZTT8AtyiJER"
      },
      "outputs": [],
      "source": [
        "\n",
        "def fill_gaps():\n",
        "    global sorted_coordinates\n",
        "\n",
        "    addition=0\n",
        "\n",
        "    for num in range(63):\n",
        "\n",
        "\n",
        "        if num in [6,14,22,30,38,46,54]:\n",
        "            if abs(sorted_coordinates[num][0]-sorted_coordinates[num+1][0])>250:\n",
        "\n",
        "                x=sorted_coordinates[num][0]+ abs(sorted_coordinates[num][0]-sorted_coordinates[num-1][0])\n",
        "                y=sorted_coordinates[num][1]\n",
        "\n",
        "                p1=(sorted_coordinates[num][2][0]+ abs(sorted_coordinates[num][2][0]-sorted_coordinates[num-1][2][0]) , sorted_coordinates[num][2][1])\n",
        "                p2=(sorted_coordinates[num][3][0]+ abs(sorted_coordinates[num][3][0]-sorted_coordinates[num-1][3][0]) , sorted_coordinates[num][3][1])\n",
        "                p3=sorted_coordinates[num][3]\n",
        "                p4=sorted_coordinates[num][2]\n",
        "\n",
        "\n",
        "\n",
        "                sorted_coordinates.insert(num+1,[x,y,p1,p2,p3,p4])\n",
        "                print(\"first statement\",num+2)\n",
        "                continue\n",
        "\n",
        "\n",
        "\n",
        "        elif num in [8,16,24,32,40,48,56]:\n",
        "            if abs(sorted_coordinates[num][0]-sorted_coordinates[num-8][0])>50:\n",
        "\n",
        "                x=sorted_coordinates[num-8][0]\n",
        "                y=sorted_coordinates[num+1][1]\n",
        "                      # x,y,p1,p2,p3,p4\n",
        "                p1=sorted_coordinates[num-8][3]\n",
        "                p2=(sorted_coordinates[num-8][3][0],sorted_coordinates[num+1][3][1])\n",
        "                p3=(sorted_coordinates[num-8][4][0],sorted_coordinates[num+1][3][1])\n",
        "                p4=sorted_coordinates[num-8][4]\n",
        "\n",
        "                sorted_coordinates.insert(num,[x,y,p1,p2,p3,p4])\n",
        "                print(\"second statement\",num+1)\n",
        "\n",
        "\n",
        "                continue\n",
        "\n",
        "\n",
        "           # net sorun var kordinat             # x,y,p1,p2,p3,p4\n",
        "        elif abs(sorted_coordinates[num][1] - sorted_coordinates[num+1][1])< 50 :\n",
        "            if sorted_coordinates[num+1][0] - sorted_coordinates[num][0] > 150:\n",
        "                x=(sorted_coordinates[num+1][0] + sorted_coordinates[num][0])/2\n",
        "                y=(sorted_coordinates[num+1][1] + sorted_coordinates[num][1])/2\n",
        "                p1=sorted_coordinates[num+1][5]\n",
        "                p2=sorted_coordinates[num+1][4]\n",
        "                p3=sorted_coordinates[num][3]\n",
        "                p4=sorted_coordinates[num][2]\n",
        "                sorted_coordinates.insert(num+1,[x,y,p1,p2,p3,p4])\n",
        "                print(f\"third statement\",num+2)\n",
        "                addition+=1\n",
        "\n",
        "    if addition!=0:\n",
        "        fill_gaps()\n",
        "\n",
        "\n",
        "fill_gaps()\n",
        "\n",
        "\n"
      ]
    },
    {
      "cell_type": "markdown",
      "metadata": {
        "id": "YvqY3-TWiJER"
      },
      "source": [
        "<br>\n",
        "\n",
        "\n",
        "## Write coordinate of squares to a csv file"
      ]
    },
    {
      "cell_type": "code",
      "execution_count": null,
      "metadata": {
        "id": "OPmuiKF1iJER"
      },
      "outputs": [],
      "source": [
        "# Write coordinates to CSV file\n",
        "# Create the directory if it doesn't exist\n",
        "os.makedirs('/Dynamic-Chess-Board-Piece-Extraction/extracted-data/', exist_ok=True)\n",
        "\n",
        "with open('/Dynamic-Chess-Board-Piece-Extraction/extracted-data/board-square-positions.csv', mode='w', newline='') as file:\n",
        "    writer = csv.writer(file)\n",
        "\n",
        "    # columns\n",
        "    writer.writerow(['x1', 'y1', 'x2', 'y2', 'x3', 'y3', 'x4', 'y4'])\n",
        "\n",
        "\n",
        "    for coordinate in sorted_coordinates:\n",
        "        writer.writerow([coordinate[2][0], coordinate[2][1],\n",
        "                                 coordinate[3][0], coordinate[3][1],\n",
        "                                 coordinate[4][0], coordinate[4][1],\n",
        "                                 coordinate[5][0], coordinate[5][1]])\n",
        "\n"
      ]
    },
    {
      "cell_type": "markdown",
      "metadata": {
        "id": "90Jq-iw4iJES"
      },
      "source": [
        "<br>\n",
        "\n",
        "\n",
        "## Check coordinates of squares that are inside of CSV file"
      ]
    },
    {
      "cell_type": "code",
      "execution_count": null,
      "metadata": {
        "id": "5oculi22iJES"
      },
      "outputs": [],
      "source": [
        "# Check CSV coordinates\n",
        "\n",
        "data = pd.read_csv(\"/Dynamic-Chess-Board-Piece-Extraction/extracted-data/board-square-positions.csv\")\n",
        "# true Coordinatesa\n",
        "\n",
        "# Read the image\n",
        "\n",
        "image = cv2.imread(image_path)\n",
        "\n",
        "# Loop through each row in the DataFrame and draw polygons\n",
        "for i, row in data.iterrows():\n",
        "    pts = []\n",
        "    for j in range(0, 8, 2):\n",
        "        pts.append((int(row[j]), int(row[j+1])))\n",
        "    pts = np.array(pts, np.int32)\n",
        "    pts = pts.reshape((-1,1,2))\n",
        "    cv2.circle(image, (int(sorted_coordinates[i][0]),int(sorted_coordinates[i][1])), 3, (0,255,0), 3)\n",
        "    cv2.polylines(image,[pts],True,(255,255,255),thickness=8)  # Change color and thickness as needed\n",
        "\n",
        "# Display the image\n",
        "plt.figure(figsize=(10,8))\n",
        "plt.imshow(image)"
      ]
    },
    {
      "cell_type": "markdown",
      "metadata": {
        "id": "fzPX6hjdiJES"
      },
      "source": [
        "<br>\n",
        "\n",
        "## CSV"
      ]
    },
    {
      "cell_type": "code",
      "execution_count": 165,
      "metadata": {
        "id": "-GOUhhQXiJES",
        "colab": {
          "base_uri": "https://localhost:8080/"
        },
        "outputId": "40fe1826-55ff-41d1-ccfb-6104147ed2bc"
      },
      "outputs": [
        {
          "output_type": "stream",
          "name": "stdout",
          "text": [
            "corner_a1: [268, 1088]\n",
            "corner_h1: [919, 990]\n",
            "corner_a8: [319, 419]\n",
            "corner_h8: [968, 334]\n"
          ]
        }
      ],
      "source": [
        "# for creating csv files for coordinates --> Chess-Board/Board_to_csv.ipynb\n",
        "coordinates=pd.read_csv(\"/Dynamic-Chess-Board-Piece-Extraction/extracted-data/board-square-positions.csv\")\n",
        "coordinates.tail()\n",
        "\n",
        "###############################################\n",
        "# corners: clockwise starting upper left      #\n",
        "# upperleft   = x1 y1                         #\n",
        "# upper right = x2 y2                         #\n",
        "# lower right = x3 y3                         #\n",
        "# lower left  = x4 y4                         #\n",
        "# to get corners check squares 1, 8, 56, 64   #\n",
        "###############################################\n",
        "\n",
        "#print(coordinates[1:][:1])  # a1 (corner is x4,y4)\n",
        "#print(coordinates[1:][7:8]) # h1 (corner is x3, y3)\n",
        "#print(coordinates[56:][0:1])# a8 (corner is x1,y1)\n",
        "#print(coordinates[56:][7:8])# h8 (corner is x2,y2)\n",
        "\n",
        "corner_a1 = coordinates.loc[1, [\"x4\", \"y4\"]].tolist()\n",
        "corner_h1 = coordinates.loc[7, [\"x3\", \"y3\"]].tolist()\n",
        "corner_a8 = coordinates.loc[56, [\"x1\", \"y1\"]].tolist()\n",
        "corner_h8 = coordinates.loc[63, [\"x2\", \"y2\"]].tolist()\n",
        "\n",
        "print(\"corner_a1:\", corner_a1)\n",
        "print(\"corner_h1:\", corner_h1)\n",
        "print(\"corner_a8:\", corner_a8)\n",
        "print(\"corner_h8:\", corner_h8)\n"
      ]
    },
    {
      "cell_type": "code",
      "source": [],
      "metadata": {
        "id": "rT0-lW-qgmxP"
      },
      "execution_count": null,
      "outputs": []
    },
    {
      "cell_type": "markdown",
      "metadata": {
        "id": "4DiV1bvNiJES"
      },
      "source": [
        "<br>\n",
        "\n",
        "## Create dictionary for squares coordinates"
      ]
    },
    {
      "cell_type": "code",
      "execution_count": null,
      "metadata": {
        "id": "EesaHZ2AiJES"
      },
      "outputs": [],
      "source": [
        "# dictionary for every cell's boundary coordinates\n",
        "# [[334, 1231], [344, 1139], [262, 1137], [247, 1228]] -->x1,y1,x2,y2,x3,y3,x4,y4\n",
        "# 64 cell_value in total --> 8x8 board\n",
        "\n",
        "coord_dict={}\n",
        "\n",
        "cell=1\n",
        "for row in coordinates.values:\n",
        "    coord_dict[cell]=[[row[0],row[1]],[row[2],row[3]],[row[4],row[5]],[row[6],row[7]]]\n",
        "    cell+=1\n",
        "\n",
        "print(coord_dict[1])\n",
        "print(coord_dict[2])\n",
        "print(len(coord_dict))"
      ]
    },
    {
      "cell_type": "markdown",
      "source": [
        "## Write Square Numbers"
      ],
      "metadata": {
        "id": "-lPTib3F9REj"
      }
    },
    {
      "cell_type": "code",
      "source": [
        "square_num=1\n",
        "for cor in sorted_coordinates:\n",
        "  cv2.putText(img = board_squared,text = str(square_num),org = (int(cor[0])-30, int(cor[1])),\n",
        "    fontFace = cv2.FONT_HERSHEY_DUPLEX,fontScale = 1,color = (125, 246, 55),thickness = 3)\n",
        "  square_num+=1\n",
        "\n",
        "plt.imshow(board_squared,cmap=\"gray\")"
      ],
      "metadata": {
        "id": "5H4BItZ39AQh"
      },
      "execution_count": null,
      "outputs": []
    },
    {
      "cell_type": "markdown",
      "metadata": {
        "id": "ybNTNY8iiJES"
      },
      "source": [
        "<br>\n",
        "\n",
        "## Label Dictionary"
      ]
    },
    {
      "cell_type": "code",
      "execution_count": null,
      "metadata": {
        "id": "DndRXQEciJES"
      },
      "outputs": [],
      "source": [
        "# class values , these values are decided before training\n",
        "names: ['black-bishop', 'black-king', 'black-knight', 'black-pawn', 'black-queen', 'black-rook', 'white-bishop', 'white-king', 'white-knight', 'white-pawn', 'white-queen', 'white-rook'] # type: ignore\n",
        "class_dict={0:'black-bishop',1:'black-king',2:'black-knight',3:'black-pawn',4: 'black-queen',5: 'black-rook',\n",
        "            6:'white-bishop',7:'white-king',8: 'white-knight',9: 'white-pawn',10: 'white-queen',11:'white-rook'}"
      ]
    },
    {
      "cell_type": "markdown",
      "metadata": {
        "id": "aKH_lOaPiJES"
      },
      "source": [
        "<br>\n",
        "\n",
        "## Make prediction"
      ]
    },
    {
      "cell_type": "code",
      "execution_count": null,
      "metadata": {
        "id": "pM2RYzyniJES"
      },
      "outputs": [],
      "source": [
        "# YOLOv8  model\n",
        "#model = YOLO(\"/Dynamic-Chess-Board-Piece-Extraction/chess-model-yolov8m.pt\")\n",
        "model = YOLO(\"/content/Dynamic-Chess-Board-Piece-Extraction/chess-model-yolov8m.pt\") #Added /content/ to the start of the path to match the image_path variable\n",
        "\n",
        "# make prediction\n",
        "results = model(image_path) # path to test image\n",
        "im_array = results[0].plot(); # plot a BGR numpy array of predictions\n",
        "\n",
        "plt.imshow(im_array)"
      ]
    },
    {
      "cell_type": "markdown",
      "metadata": {
        "id": "IulOmYamiJET"
      },
      "source": [
        "<br>\n",
        "\n",
        "### \"game_list\" is a list that contains information about game"
      ]
    },
    {
      "cell_type": "code",
      "execution_count": null,
      "metadata": {
        "id": "OvqDyd-ciJET"
      },
      "outputs": [],
      "source": [
        "# list for cell number and piece id (class value)\n",
        "game_list=[]\n",
        "\n",
        "for result in results:  # results is model's prediction\n",
        "    for id,box in enumerate(result.boxes.xyxy) : # box with xyxy format, (N, 4)\n",
        "\n",
        "            x1,y1,x2,y2=int(box[0]),int(box[1]),int(box[2]),int(box[3]) # take coordinates\n",
        "\n",
        "            # find middle of bounding boxes for x and y\n",
        "            x_mid=int((x1+x2)/2)\n",
        "            # add padding to y values\n",
        "            y_mid=int((y1+y2)/2)+25\n",
        "\n",
        "            for cell_value, coordinates in coord_dict.items():\n",
        "                x_values = [point[0] for point in coordinates]\n",
        "                y_values = [point[1] for point in coordinates]\n",
        "\n",
        "                if (min(x_values) <= x_mid <= max(x_values)) and (min(y_values) <= y_mid <= max(y_values)):\n",
        "                    a=int(result.boxes.cls[id])\n",
        "\n",
        "                    print(f\" cell :  {cell_value} --> {a} \")\n",
        "                    # add cell values and piece cell_value(class value\n",
        "                    game_list.append([cell_value,a])\n",
        "                    break\n",
        "\n",
        "\n",
        "\n"
      ]
    },
    {
      "cell_type": "markdown",
      "metadata": {
        "id": "uZlMfeK5iJET"
      },
      "source": [
        "<br>\n",
        "\n",
        "## Create String that contains game info"
      ]
    },
    {
      "cell_type": "code",
      "execution_count": null,
      "metadata": {
        "id": "6LlYH3d6iJET"
      },
      "outputs": [],
      "source": [
        "# show game , if cell value exist in game_list , then print piece in that cell , otherwise print space\n",
        "chess_str=\"\"\n",
        "for i in range(1, 65):\n",
        "\n",
        "    for slist in game_list:\n",
        "        if slist[0] == i:\n",
        "            print(class_dict[slist[1]], end=\" \")\n",
        "            chess_str+=f\" {class_dict[slist[1]]} \"\n",
        "            break\n",
        "    else:\n",
        "        print(\"space\", end=\" \")\n",
        "        chess_str+=\" space \"\n",
        "\n",
        "    if i % 8 == 0:\n",
        "        print(\"\\n\")\n",
        "        chess_str+=\"\\n\""
      ]
    },
    {
      "cell_type": "markdown",
      "metadata": {
        "id": "G4RItMA-iJET"
      },
      "source": [
        "<br>\n",
        "\n",
        "## Create Classical Chess Image in .SVG format"
      ]
    },
    {
      "cell_type": "code",
      "execution_count": null,
      "metadata": {
        "id": "WCoA6lguiJET"
      },
      "outputs": [],
      "source": [
        "import chess\n",
        "import chess.svg\n",
        "\n",
        "def parse_coordinates(input_str):\n",
        "    \"\"\"\n",
        "    Parse the input string to extract the positions of the chess pieces.\n",
        "    \"\"\"\n",
        "    rows = input_str.strip().split('\\n')\n",
        "    chess_pieces = []\n",
        "    for row in rows:  # Reversing rows to invert ranks\n",
        "        pieces = row.strip().split()\n",
        "        chess_pieces.extend(pieces)\n",
        "    return chess_pieces\n",
        "\n",
        "\n",
        "input_str=chess_str\n",
        "\n",
        "chess_pieces = parse_coordinates(input_str)\n",
        "\n",
        "board = chess.Board(None)\n",
        "\n",
        "piece_mapping = {\n",
        "    'white-pawn': chess.PAWN,\n",
        "    'black-pawn': chess.PAWN,\n",
        "    'white-knight': chess.KNIGHT,\n",
        "    'black-knight': chess.KNIGHT,\n",
        "    'white-bishop': chess.BISHOP,\n",
        "    'black-bishop': chess.BISHOP,\n",
        "    'white-rook': chess.ROOK,\n",
        "    'black-rook': chess.ROOK,\n",
        "    'white-queen': chess.QUEEN,\n",
        "    'black-queen': chess.QUEEN,\n",
        "    'white-king': chess.KING,\n",
        "    'black-king': chess.KING,\n",
        "    'space': None\n",
        "}\n",
        "\n",
        "for rank in range(8):\n",
        "    for file in range(8):\n",
        "        piece = chess_pieces[rank * 8 + file]\n",
        "        if piece != 'space':\n",
        "            print(rank)\n",
        "            print(file)\n",
        "            color = chess.WHITE if piece.startswith('white') else chess.BLACK\n",
        "            piece_type = piece_mapping[piece]\n",
        "            board.set_piece_at(chess.square(file, rank), chess.Piece(piece_type, color))  # Not inverting rank\n",
        "\n",
        "svgboard = chess.svg.board(board)\n",
        "with open(\"/Dynamic-Chess-Board-Piece-Extraction/extracted-data/2Dboard.svg\", \"w\") as f:\n",
        "    f.write(svgboard)\n",
        "\n",
        "\n"
      ]
    },
    {
      "cell_type": "markdown",
      "metadata": {
        "id": "qziaWgAJiJEW"
      },
      "source": [
        "<br><br>\n",
        "\n",
        "## Convert .SVG to .PNG and display Result"
      ]
    },
    {
      "cell_type": "code",
      "execution_count": null,
      "metadata": {
        "id": "ejnDPtYwiJEW"
      },
      "outputs": [],
      "source": [
        "from svglib.svglib import svg2rlg\n",
        "from reportlab.graphics import renderPM\n",
        "\n",
        "# Function to convert SVG to PNG\n",
        "def convert_svg_to_png(svg_file_path, png_file_path):\n",
        "    # Read the SVG file and convert it to a ReportLab Drawing\n",
        "    drawing = svg2rlg(svg_file_path)\n",
        "    # Render the drawing to a PNG file\n",
        "    renderPM.drawToFile(drawing, png_file_path, fmt='PNG')\n",
        "    print(f\"Converted {svg_file_path} to {png_file_path}\")\n",
        "\n",
        "# Example usage\n",
        "svg_file = '/Dynamic-Chess-Board-Piece-Extraction/extracted-data/2Dboard.svg'\n",
        "png_file = '/Dynamic-Chess-Board-Piece-Extraction/extracted-data/Extracted-Board.png'\n",
        "convert_svg_to_png(svg_file, png_file)\n",
        "\n",
        "plt.imshow(cv2.cvtColor(cv2.imread(png_file),cv2.COLOR_BGR2RGB))"
      ]
    },
    {
      "cell_type": "markdown",
      "metadata": {
        "id": "o_MbI3PviJEW"
      },
      "source": [
        "<br><br>\n",
        "\n",
        "## Display Original Image and Converted Image"
      ]
    },
    {
      "cell_type": "code",
      "execution_count": null,
      "metadata": {
        "id": "hnS11OOeiJEW"
      },
      "outputs": [],
      "source": [
        "plt.figure(figsize=(18, 12))  # Increase the figure size to 18x6 inches\n",
        "\n",
        "plt.subplot(131)\n",
        "plt.title(f\"{image_path}\")\n",
        "plt.imshow(rgb_image)\n",
        "\n",
        "plt.subplot(132)\n",
        "plt.title(\"Converted Image\")\n",
        "plt.imshow(cv2.cvtColor(cv2.imread(png_file),cv2.COLOR_BGR2RGB))\n",
        "\n",
        "plt.subplot(133)\n",
        "plt.title(\"Extracted Squares\")\n",
        "plt.imshow(image)\n",
        "\n",
        "plt.show()"
      ]
    }
  ],
  "metadata": {
    "kernelspec": {
      "display_name": "pytorch-cuda",
      "language": "python",
      "name": "python3"
    },
    "language_info": {
      "codemirror_mode": {
        "name": "ipython",
        "version": 3
      },
      "file_extension": ".py",
      "mimetype": "text/x-python",
      "name": "python",
      "nbconvert_exporter": "python",
      "pygments_lexer": "ipython3",
      "version": "3.10.13"
    },
    "colab": {
      "provenance": []
    }
  },
  "nbformat": 4,
  "nbformat_minor": 0
}