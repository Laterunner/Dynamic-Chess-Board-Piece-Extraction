{
 "cells": [
  {
   "cell_type": "markdown",
   "id": "672a537b-0814-47cd-a114-77ff600d0564",
   "metadata": {},
   "source": [
    "## Game-Piece Extraction"
   ]
  },
  {
   "cell_type": "markdown",
   "id": "671ffb97-1135-4cba-86ac-fed01a0832f1",
   "metadata": {},
   "source": [
    "<font size=\"4\">\n",
    "Purpose of notebook : Extraction of chess pieces and convert chess board image to common Chess Format (like chess.com,lichess.com)\n",
    "</font>"
   ]
  },
  {
   "cell_type": "markdown",
   "id": "969dd2a8-a40d-4495-acfd-df5efa5c8eed",
   "metadata": {},
   "source": [
    "<br><br><br>"
   ]
  },
  {
   "cell_type": "markdown",
   "id": "e033b402-1999-4d4c-a826-5b808aee5953",
   "metadata": {},
   "source": [
    "## Necessary Libraries "
   ]
  },
  {
   "cell_type": "code",
   "execution_count": 3,
   "id": "444b56dc-d0d7-4caa-9c38-cdcfa4ebf093",
   "metadata": {},
   "outputs": [],
   "source": [
    "from pathlib import Path\n",
    "import sys\n",
    "import cv2\n",
    "import depthai as dai\n",
    "import numpy as np\n",
    "import time\n",
    "import pandas as pd \n",
    "import matplotlib.pyplot as plt "
   ]
  },
  {
   "cell_type": "code",
   "execution_count": 4,
   "id": "249b86de-8230-4fbf-917c-2729d70e5802",
   "metadata": {},
   "outputs": [
    {
     "name": "stdout",
     "output_type": "stream",
     "text": [
      "2.24.0.0\n"
     ]
    }
   ],
   "source": [
    "print(dai.__version__)"
   ]
  },
  {
   "cell_type": "markdown",
   "id": "00541e65-5c22-4c78-88a7-060a4ff64c45",
   "metadata": {},
   "source": [
    "<br><br>"
   ]
  },
  {
   "cell_type": "markdown",
   "id": "9fbc1544-0ddd-41bd-9ce0-622a3fa80fe8",
   "metadata": {},
   "source": [
    "## Path to Model "
   ]
  },
  {
   "cell_type": "markdown",
   "id": "8b0e2c90-a6d3-43ed-a6bf-de7002ec50ce",
   "metadata": {},
   "source": [
    "<font size=\"4\"> Model conversion : Yolov8 --> .blob </font> <br><br>"
   ]
  },
  {
   "cell_type": "code",
   "execution_count": 5,
   "id": "53838596-a4cd-4ab4-b1ef-ca332bdfc965",
   "metadata": {},
   "outputs": [],
   "source": [
    "# Get argument first\n",
    "nnPath = \"Blob-Model/last_openvino_2022.1_6shave.blob\"\n",
    "\n",
    "# tiny yolo v4 label texts\n",
    "labelMap = ['black-bishop', 'black-king', 'black-knight', 'black-pawn', \n",
    "            'black-queen', 'black-rook', 'white-bishop', 'white-king', 'white-knight', \n",
    "            'white-pawn', 'white-queen', 'white-rook']"
   ]
  },
  {
   "cell_type": "markdown",
   "id": "d659ef16-acd1-4a17-9911-1f19ee6ffeaa",
   "metadata": {},
   "source": [
    "<br><br>\n",
    "## Create Dictionary from CSV file , for every square one key-value pair "
   ]
  },
  {
   "cell_type": "code",
   "execution_count": 6,
   "id": "d3f31b2a-cdf3-4fc4-bd67-da3bd857b096",
   "metadata": {},
   "outputs": [
    {
     "name": "stdout",
     "output_type": "stream",
     "text": [
      "64\n",
      "[[721.0, 621.0], [733.0, 543.0], [635.0, 543.0], [622.0, 618.0]]\n"
     ]
    }
   ],
   "source": [
    "# class values , these values are decided before training\n",
    "names: ['black-bishop', 'black-king', 'black-knight', 'black-pawn', 'black-queen', 'black-rook', 'white-bishop', 'white-king', 'white-knight', 'white-pawn', 'white-queen', 'white-rook']\n",
    "class_dict={0:'black-bishop',1:'black-king',2:'black-knight',3:'black-pawn',4: 'black-queen',5: 'black-rook',\n",
    "            6:'white-bishop',7:'white-king',8: 'white-knight',9: 'white-pawn',10: 'white-queen',11:'white-rook'}\n",
    "\n",
    "coordinates=pd.read_csv(\"dynamic-chess-coordinates.csv\")\n",
    "    \n",
    "coord_dict={}\n",
    "\n",
    "cell=1\n",
    "for row in coordinates.values:\n",
    "    coord_dict[cell]=[[row[2],row[3]],[row[4],row[5]],[row[6],row[7]],[row[8],row[9]]]\n",
    "    cell+=1\n",
    "\n",
    "print(len(coord_dict))\n",
    "print(coord_dict[1])"
   ]
  },
  {
   "cell_type": "markdown",
   "id": "5952e49e-9185-4ccb-aaa9-b36e1d797cae",
   "metadata": {},
   "source": [
    "<br><br>"
   ]
  },
  {
   "cell_type": "markdown",
   "id": "e8234068-14c2-4467-a629-db4b114b0c82",
   "metadata": {},
   "source": [
    "## List that contains information about  Game "
   ]
  },
  {
   "cell_type": "markdown",
   "id": "cae0630b-b0c0-4da1-90f9-e2023b12889d",
   "metadata": {},
   "source": [
    "<font size=\"4\">\n",
    "\n",
    "Inside of \"board_conversion\" function , there is a list called \"game_list\" , this list contains all the information about state of game\n",
    "<br>\n",
    "Position of pieces , square numbers \n",
    "<br>\n",
    "This list is very important , it is going to be  used almost everytime \n",
    "<br><br>\n",
    "When pressing letter \"k\" , this function starts to work , and it update game ( all pieces )\n",
    "<br><br>\n",
    "\n",
    "</font>"
   ]
  },
  {
   "cell_type": "code",
   "execution_count": 7,
   "id": "763e1a6d-504f-4c85-9be2-225496d99e65",
   "metadata": {},
   "outputs": [],
   "source": [
    "def board_conversion(detections):\n",
    "    global game_list\n",
    "    game_list=[]\n",
    "\n",
    "    for detection in detections:\n",
    "        \n",
    "        x_mid = ((detection.xmin+detection.xmax)/2)*1920\n",
    "        y_mid = ((detection.ymax+detection.ymin)/2)*1080 + 15\n",
    "        \n",
    "        for cell_value, coordinates in coord_dict.items():\n",
    "            x_values = [point[0] for point in coordinates]\n",
    "            y_values = [point[1] for point in coordinates]\n",
    "\n",
    "            if (min(x_values) <= x_mid <= max(x_values)) and (min(y_values) <= y_mid <= max(y_values)):\n",
    "                label_id=detection.label\n",
    "                print(f\" cell :  {cell_value} --> {label_id} --> {class_dict[label_id]} \")\n",
    "\n",
    "                game_list.append([cell_value,label_id])\n",
    "\n",
    "                break\n",
    "         \n"
   ]
  },
  {
   "cell_type": "markdown",
   "id": "5df8d4b4-2b80-45af-884e-fab0779c32a9",
   "metadata": {},
   "source": [
    "<br><br>"
   ]
  },
  {
   "cell_type": "markdown",
   "id": "d1040f6f-6392-4254-b9cb-51fdaeb191e5",
   "metadata": {},
   "source": [
    "## Calibration of Camera "
   ]
  },
  {
   "cell_type": "code",
   "execution_count": 25,
   "id": "b664a62f-ad4d-4fe0-92e6-73ce517ff0a3",
   "metadata": {
    "scrolled": true
   },
   "outputs": [
    {
     "name": "stderr",
     "output_type": "stream",
     "text": [
      "C:\\Users\\sirom\\AppData\\Local\\Temp\\ipykernel_8452\\1534464977.py:19: DeprecationWarning: RGB is deprecated, use CAM_A or address camera by name instead.\n",
      "  camRgb.setBoardSocket(dai.CameraBoardSocket.RGB)\n"
     ]
    },
    {
     "name": "stdout",
     "output_type": "stream",
     "text": [
      "Usb speed: HIGH\n",
      "EXTRACTİON STARTS\n",
      " cell :  6 --> 2 --> black-knight \n",
      " cell :  3 --> 8 --> white-knight \n",
      " cell :  10 --> 4 --> black-queen \n",
      " cell :  35 --> 3 --> black-pawn \n",
      " cell :  40 --> 8 --> white-knight \n",
      " cell :  22 --> 11 --> white-rook \n",
      " cell :  25 --> 5 --> black-rook \n",
      " cell :  23 --> 5 --> black-rook \n",
      " cell :  21 --> 9 --> white-pawn \n",
      " cell :  26 --> 3 --> black-pawn \n",
      " cell :  57 --> 7 --> white-king \n",
      " cell :  52 --> 3 --> black-pawn \n",
      " cell :  54 --> 9 --> white-pawn \n",
      " cell :  64 --> 3 --> black-pawn \n",
      " cell :  50 --> 9 --> white-pawn \n",
      " cell :  28 --> 9 --> white-pawn \n",
      " cell :  38 --> 3 --> black-pawn \n",
      " cell :  59 --> 2 --> black-knight \n",
      " cell :  16 --> 9 --> white-pawn \n",
      " cell :  34 --> 3 --> black-pawn \n",
      " cell :  36 --> 3 --> black-pawn \n",
      " cell :  42 --> 9 --> white-pawn \n",
      " cell :  61 --> 9 --> white-pawn \n",
      " cell :  19 --> 4 --> black-queen \n",
      " cell :  45 --> 10 --> white-queen \n",
      " cell :  12 --> 0 --> black-bishop \n"
     ]
    }
   ],
   "source": [
    "syncNN = True\n",
    "\n",
    "# Create pipeline\n",
    "pipeline = dai.Pipeline()\n",
    "\n",
    "# Define sources and outputs\n",
    "camRgb = pipeline.create(dai.node.ColorCamera)\n",
    "detectionNetwork = pipeline.create(dai.node.YoloDetectionNetwork)\n",
    "\n",
    "xoutRgb = pipeline.create(dai.node.XLinkOut)\n",
    "nnOut = pipeline.create(dai.node.XLinkOut)\n",
    "\n",
    "xoutRgb.setStreamName(\"rgb\")\n",
    "nnOut.setStreamName(\"nn\")\n",
    "\n",
    "# Properties\n",
    "camRgb.setPreviewSize(640, 640)\n",
    "camRgb.setResolution(dai.ColorCameraProperties.SensorResolution.THE_1080_P)\n",
    "camRgb.setBoardSocket(dai.CameraBoardSocket.RGB)\n",
    "camRgb.setInterleaved(False)\n",
    "camRgb.setColorOrder(dai.ColorCameraProperties.ColorOrder.BGR)\n",
    "camRgb.setPreviewKeepAspectRatio(False)\n",
    "camRgb.setFps(20)\n",
    "\n",
    "# Network specific settings\n",
    "detectionNetwork.setConfidenceThreshold(0.4)\n",
    "detectionNetwork.setNumClasses(12)\n",
    "detectionNetwork.setCoordinateSize(4)\n",
    "detectionNetwork.setAnchors([10, 14, 23, 27, 37, 58, 81, 82, 135, 169, 344, 319]) # Anchors are predefined bounding boxes with specific width and height ratios\n",
    "detectionNetwork.setAnchorMasks({\"side26\": [1, 2, 3], \"side13\": [3, 4, 5]})\n",
    "detectionNetwork.setIouThreshold(0.4)\n",
    "detectionNetwork.setBlobPath(nnPath)\n",
    "detectionNetwork.setNumInferenceThreads(2) # number of threads that the neural network node will use for inference\n",
    "detectionNetwork.input.setBlocking(False) # network dont stop , maintain a smooth flow of data.\n",
    "\n",
    "# Linking\n",
    "\"\"\"\n",
    "By linking camRgb.preview to detectionNetwork.input, you are specifying that the images from the \n",
    "RGB camera's preview output should be fed directly into the neural network for object detection\n",
    "\"\"\"\n",
    "camRgb.preview.link(detectionNetwork.input) # 640x640\n",
    "\n",
    "# Ensures that the frames you display or process are the exact frames the NN used for its detections.\n",
    "if syncNN:\n",
    "    detectionNetwork.passthrough.link(xoutRgb.input)\n",
    "else:\n",
    "    camRgb.preview.link(xoutRgb.input)\n",
    "    \n",
    "detectionNetwork.out.link(nnOut.input)\n",
    "\n",
    "\n",
    "# Connect to device and start pipeline\n",
    "with dai.Device(pipeline) as device:\n",
    "\n",
    "    print('Usb speed:', device.getUsbSpeed().name)\n",
    "\n",
    "    # Output queues will be used to get the rgb frames and nn data from the outputs defined above\n",
    "    qRgb = device.getOutputQueue(name=\"rgb\", maxSize=4, blocking=False)\n",
    "    qDet = device.getOutputQueue(name=\"nn\", maxSize=4, blocking=False)\n",
    "\n",
    "    frame = None\n",
    "    detections = []\n",
    "    startTime = time.monotonic()\n",
    "    counter = 0\n",
    "    color2 = (255, 255, 255)\n",
    "\n",
    "    # nn data, being the bounding box locations, are in <0..1> range - they need to be normalized with frame width/height\n",
    "    def frameNorm(frame, bbox):\n",
    "        normVals = np.full(len(bbox), frame.shape[0])\n",
    "        normVals[::2] = frame.shape[1]\n",
    "        return (np.clip(np.array(bbox), 0, 1) * normVals).astype(int)\n",
    "\n",
    "    def displayFrame(name, frame):\n",
    "        color = (255, 0, 0)\n",
    "        for detection in detections:\n",
    "            # detection values are --> [0,1] range , inside board_conversion function they converted to cameras dimensions\n",
    "            bbox = frameNorm(frame, (detection.xmin, detection.ymin, detection.xmax, detection.ymax))\n",
    "           \n",
    "           \n",
    "            \"\"\"\n",
    "            print(detection.label)\n",
    "            print(((detection.xmin+detection.xmax)/2)*1920)\n",
    "            print(((detection.ymax+detection.ymin)/2)*1080+30) \n",
    "            \"\"\"\n",
    "\n",
    "            cv2.putText(frame, labelMap[detection.label], (bbox[0] + 10, bbox[1] + 20), cv2.FONT_HERSHEY_TRIPLEX, 0.5, 255)\n",
    "            cv2.putText(frame, f\"{int(detection.confidence * 100)}%\", (bbox[0] + 10, bbox[1] + 40), cv2.FONT_HERSHEY_TRIPLEX, 0.5, 255)\n",
    "            cv2.rectangle(frame, (bbox[0], bbox[1]), (bbox[2], bbox[3]), color, 2)\n",
    "        # Show the frame\n",
    "        cv2.imshow(name, frame)\n",
    "\n",
    "    while True:\n",
    "        if syncNN:\n",
    "            inRgb = qRgb.get()\n",
    "            inDet = qDet.get()\n",
    "        else:\n",
    "            inRgb = qRgb.tryGet()\n",
    "            inDet = qDet.tryGet()\n",
    "\n",
    "        if inRgb is not None:\n",
    "            frame = inRgb.getCvFrame()\n",
    "            cv2.putText(frame, \"NN fps: {:.2f}\".format(counter / (time.monotonic() - startTime)),\n",
    "                        (2, frame.shape[0] - 4), cv2.FONT_HERSHEY_TRIPLEX, 0.4, color2)\n",
    "\n",
    "        if inDet is not None:\n",
    "            detections = inDet.detections\n",
    "           \n",
    "            counter += 1\n",
    "\n",
    "        if frame is not None:\n",
    "            displayFrame(\"rgb\", frame)\n",
    "\n",
    "        # Wait for a key event for 1ms\n",
    "        key = cv2.waitKey(1) & 0xFF\n",
    "        if key == ord('k'):\n",
    "            print(\"EXTRACTİON STARTS\")\n",
    "            cv2.imwrite(\"frame.png\",frame)\n",
    "            board_conversion(detections)\n",
    "            \n",
    "        if key == ord('q'):\n",
    "            break\n",
    "\n",
    "    cv2.destroyAllWindows()"
   ]
  },
  {
   "cell_type": "markdown",
   "id": "595c2433-b2f2-4c6a-8d77-2a64ad1deee5",
   "metadata": {},
   "source": [
    "<br><BR><BR>"
   ]
  },
  {
   "cell_type": "markdown",
   "id": "de86bd63-c103-4a22-8909-e7790af43d8f",
   "metadata": {},
   "source": [
    "## Chess Board to String  ( string representation needs for conversion )"
   ]
  },
  {
   "cell_type": "code",
   "execution_count": 26,
   "id": "9403c975-e121-4af8-8c98-4e479350b384",
   "metadata": {},
   "outputs": [
    {
     "name": "stdout",
     "output_type": "stream",
     "text": [
      "space space white-knight space space black-knight space space \n",
      "\n",
      "space black-queen space black-bishop space space space white-pawn \n",
      "\n",
      "space space black-queen space white-pawn white-rook black-rook space \n",
      "\n",
      "black-rook black-pawn space white-pawn space space space space \n",
      "\n",
      "space black-pawn black-pawn black-pawn space black-pawn space white-knight \n",
      "\n",
      "space white-pawn space space white-queen space space space \n",
      "\n",
      "space white-pawn space black-pawn space white-pawn space space \n",
      "\n",
      "white-king space black-knight space white-pawn space space black-pawn \n",
      "\n"
     ]
    }
   ],
   "source": [
    "\n",
    "\n",
    "chess_str=\"\"\n",
    "for i in range(1, 65):\n",
    "    \n",
    "    for slist in game_list:\n",
    "        if slist[0] == i:\n",
    "            print(class_dict[slist[1]], end=\" \")\n",
    "            chess_str+=f\" {class_dict[slist[1]]} \"\n",
    "            break\n",
    "    else:\n",
    "        print(\"space\", end=\" \")\n",
    "        chess_str+=\" space \"\n",
    "\n",
    "    if i % 8 == 0:\n",
    "        print(\"\\n\")\n",
    "        chess_str+=\"\\n\"\n",
    "    \n",
    " "
   ]
  },
  {
   "cell_type": "markdown",
   "id": "1161fc49-cd2d-4c41-93e5-3daee40bca9a",
   "metadata": {},
   "source": [
    "<br><br>"
   ]
  },
  {
   "cell_type": "markdown",
   "id": "6b9b5133-5618-4a78-a85c-b519bcd5d08b",
   "metadata": {},
   "source": [
    "## String to SVG "
   ]
  },
  {
   "cell_type": "code",
   "execution_count": 27,
   "id": "49f06888-69d8-40bc-b9bc-28e43b03d8ec",
   "metadata": {
    "scrolled": true
   },
   "outputs": [
    {
     "name": "stdout",
     "output_type": "stream",
     "text": [
      "0\n",
      "2\n",
      "0\n",
      "5\n",
      "1\n",
      "1\n",
      "1\n",
      "3\n",
      "1\n",
      "7\n",
      "2\n",
      "2\n",
      "2\n",
      "4\n",
      "2\n",
      "5\n",
      "2\n",
      "6\n",
      "3\n",
      "0\n",
      "3\n",
      "1\n",
      "3\n",
      "3\n",
      "4\n",
      "1\n",
      "4\n",
      "2\n",
      "4\n",
      "3\n",
      "4\n",
      "5\n",
      "4\n",
      "7\n",
      "5\n",
      "1\n",
      "5\n",
      "4\n",
      "6\n",
      "1\n",
      "6\n",
      "3\n",
      "6\n",
      "5\n",
      "7\n",
      "0\n",
      "7\n",
      "2\n",
      "7\n",
      "4\n",
      "7\n",
      "7\n"
     ]
    }
   ],
   "source": [
    "import chess\n",
    "import chess.svg\n",
    "\n",
    "def parse_coordinates(input_str):\n",
    "    \"\"\"\n",
    "    Parse the input string to extract the positions of the chess pieces.\n",
    "    \"\"\"\n",
    "    rows = input_str.strip().split('\\n')\n",
    "    chess_pieces = []\n",
    "    for row in rows:  # Reversing rows to invert ranks\n",
    "        pieces = row.strip().split()\n",
    "        chess_pieces.extend(pieces)\n",
    "    return chess_pieces\n",
    "\n",
    "\n",
    "input_str=chess_str\n",
    "\n",
    "chess_pieces = parse_coordinates(input_str)\n",
    "\n",
    "board = chess.Board(None)\n",
    "\n",
    "piece_mapping = {\n",
    "    'white-pawn': chess.PAWN,\n",
    "    'black-pawn': chess.PAWN,\n",
    "    'white-knight': chess.KNIGHT,\n",
    "    'black-knight': chess.KNIGHT,\n",
    "    'white-bishop': chess.BISHOP,\n",
    "    'black-bishop': chess.BISHOP,\n",
    "    'white-rook': chess.ROOK,\n",
    "    'black-rook': chess.ROOK,\n",
    "    'white-queen': chess.QUEEN,\n",
    "    'black-queen': chess.QUEEN,\n",
    "    'white-king': chess.KING,\n",
    "    'black-king': chess.KING,\n",
    "    'space': None\n",
    "}\n",
    "\n",
    "for rank in range(8):\n",
    "    for file in range(8):\n",
    "        piece = chess_pieces[rank * 8 + file]\n",
    "        if piece != 'space':\n",
    "            print(rank)\n",
    "            print(file)\n",
    "            color = chess.WHITE if piece.startswith('white') else chess.BLACK\n",
    "            piece_type = piece_mapping[piece]\n",
    "            board.set_piece_at(chess.square(file, rank), chess.Piece(piece_type, color))  # Not inverting rank\n",
    "\n",
    "svgboard = chess.svg.board(board)\n",
    "with open(\"extracted-images/2Dboard.svg\", \"w\") as f:\n",
    "    f.write(svgboard)\n",
    "\n",
    "\n"
   ]
  },
  {
   "cell_type": "markdown",
   "id": "b04d27cc-75a4-417f-9907-497d15aceac0",
   "metadata": {},
   "source": [
    "## SVG to PNG"
   ]
  },
  {
   "cell_type": "code",
   "execution_count": 28,
   "id": "843258c9-b60c-43cc-b8d4-9fa9faab24e7",
   "metadata": {},
   "outputs": [
    {
     "name": "stdout",
     "output_type": "stream",
     "text": [
      "Converted 2Dboard.svg to Extracted-Board.png\n"
     ]
    }
   ],
   "source": [
    "from svglib.svglib import svg2rlg\n",
    "from reportlab.graphics import renderPM\n",
    "\n",
    "# Function to convert SVG to PNG\n",
    "def convert_svg_to_png(svg_file_path, png_file_path):\n",
    "    # Read the SVG file and convert it to a ReportLab Drawing\n",
    "    drawing = svg2rlg(svg_file_path)\n",
    "    # Render the drawing to a PNG file\n",
    "    renderPM.drawToFile(drawing, png_file_path, fmt='PNG')\n",
    "    print(f\"Converted {svg_file_path} to {png_file_path}\")\n",
    "\n",
    "# Example usage\n",
    "svg_file = 'extracted-images/2Dboard.svg'\n",
    "png_file = 'extracted-images/Extracted-Board.png'\n",
    "convert_svg_to_png(svg_file, png_file)"
   ]
  },
  {
   "cell_type": "code",
   "execution_count": 29,
   "id": "5c15d06b-c984-4a5f-92e8-42040ff05103",
   "metadata": {},
   "outputs": [
    {
     "data": {
      "text/plain": [
       "<matplotlib.image.AxesImage at 0x1a28fc67280>"
      ]
     },
     "execution_count": 29,
     "metadata": {},
     "output_type": "execute_result"
    },
    {
     "data": {
      "image/png": "[encoded data removed]",
      "text/plain": [
       "<Figure size 640x480 with 1 Axes>"
      ]
     },
     "metadata": {},
     "output_type": "display_data"
    }
   ],
   "source": [
    "plt.imshow(cv2.cvtColor(cv2.imread(\"Extracted-Board.png\"),cv2.COLOR_BGR2RGB))"
   ]
  },
  {
   "cell_type": "code",
   "execution_count": null,
   "id": "1430c036-77c8-44ad-97bb-81ad94ea317c",
   "metadata": {},
   "outputs": [],
   "source": []
  },
  {
   "cell_type": "code",
   "execution_count": null,
   "id": "25d88572-2186-433f-a144-b017a6eaedfd",
   "metadata": {},
   "outputs": [],
   "source": []
  },
  {
   "cell_type": "code",
   "execution_count": null,
   "id": "ac1c38d0-cb13-4a6a-a207-bff39499a985",
   "metadata": {},
   "outputs": [],
   "source": []
  }
 ],
 "metadata": {
  "kernelspec": {
   "display_name": "Python 3 (ipykernel)",
   "language": "python",
   "name": "python3"
  },
  "language_info": {
   "codemirror_mode": {
    "name": "ipython",
    "version": 3
   },
   "file_extension": ".py",
   "mimetype": "text/x-python",
   "name": "python",
   "nbconvert_exporter": "python",
   "pygments_lexer": "ipython3",
   "version": "3.10.0"
  }
 },
 "nbformat": 4,
 "nbformat_minor": 5
}
